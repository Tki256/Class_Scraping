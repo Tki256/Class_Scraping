{
 "cells": [
  {
   "cell_type": "code",
   "execution_count": 9,
   "id": "63b1735b-91a7-46a2-8e29-9b737baa99f8",
   "metadata": {},
   "outputs": [],
   "source": [
    "from Scraping.utils import search_google_scholar, get_abstract\n",
    "import streamlit as st\n",
    "\n",
    "query = \"EEG stress\"\n",
    "search_results = search_google_scholar(query)"
   ]
  },
  {
   "cell_type": "code",
   "execution_count": 3,
   "id": "dd811306",
   "metadata": {},
   "outputs": [],
   "source": [
    "link_list = [search_results[i][\"pdf\"] for i in range(len(search_results))]\n",
    "\n"
   ]
  },
  {
   "cell_type": "code",
   "execution_count": 66,
   "id": "18af8c1d",
   "metadata": {},
   "outputs": [
    {
     "data": {
      "text/plain": [
       "['https://www.researchgate.net/profile/Houtan-Jebelli/publication/325455360_EEG-based_workers%27_stress_recognition_at_construction_sites/links/5c85b94d299bf1268d4f917c/EEG-based-workers-stress-recognition-at-construction-sites.pdf',\n",
       " 'https://www.prsinstitute.org/downloads/related/psychology/biopsychology/BiologicalPsychology.pdf',\n",
       " 'https://ieeexplore.ieee.org/iel7/6221039/6563131/09520410.pdf']"
      ]
     },
     "execution_count": 66,
     "metadata": {},
     "output_type": "execute_result"
    }
   ],
   "source": [
    "link_list\n",
    "\n",
    "\n"
   ]
  },
  {
   "cell_type": "code",
   "execution_count": 4,
   "id": "a6b502a4",
   "metadata": {},
   "outputs": [
    {
     "data": {
      "text/plain": [
       "['https://www.researchgate.net/profile/Houtan-Jebelli/publication/325455360_EEG-based_workers%27_stress_recognition_at_construction_sites/links/5c85b94d299bf1268d4f917c/EEG-based-workers-stress-recognition-at-construction-sites.pdf',\n",
       " 'https://www.prsinstitute.org/downloads/related/psychology/biopsychology/BiologicalPsychology.pdf',\n",
       " 'https://ieeexplore.ieee.org/iel7/6221039/6563131/09520410.pdf',\n",
       " 'https://www.academia.edu/download/105698293/IRJET-V4I1316.pdf',\n",
       " 'https://repository.essex.ac.uk/13289/1/NeurobiolAging%20-%20final%20version.pdf',\n",
       " 'https://www.researchgate.net/profile/Mahmoud-Masadeh/publication/351288815_The_Effects_of_Emotional_Stress_on_Learning_and_Memory_Cognitive_Functions_An_EEG_Review_Study_in_Education/links/609644f6a6fdccaebd16149e/The-Effects-of-Emotional-Stress-on-Learning-and-Memory-Cognitive-Functions-An-EEG-Review-Study-in-Education.pdf',\n",
       " 'https://ieeexplore.ieee.org/iel7/6287639/6514899/07968419.pdf']"
      ]
     },
     "execution_count": 4,
     "metadata": {},
     "output_type": "execute_result"
    }
   ],
   "source": [
    "import re\n",
    "link_list\n",
    "pdf_path = re.sub(r'^.', base_url, pdf_relative_path)\n"
   ]
  },
  {
   "cell_type": "code",
   "execution_count": null,
   "id": "ffbf765b",
   "metadata": {},
   "outputs": [],
   "source": []
  },
  {
   "cell_type": "code",
   "execution_count": 5,
   "id": "60f1ad38",
   "metadata": {},
   "outputs": [],
   "source": [
    "file_name = link_list[1].split(\"/\")[-1]"
   ]
  },
  {
   "cell_type": "code",
   "execution_count": 6,
   "id": "a3f36781",
   "metadata": {},
   "outputs": [
    {
     "data": {
      "text/plain": [
       "'BiologicalPsychology.pdf'"
      ]
     },
     "execution_count": 6,
     "metadata": {},
     "output_type": "execute_result"
    }
   ],
   "source": [
    "file_name"
   ]
  },
  {
   "cell_type": "code",
   "execution_count": 7,
   "id": "ecd4078a",
   "metadata": {},
   "outputs": [
    {
     "data": {
      "text/plain": [
       "'https://www.prsinstitute.org/downloads/related/psychology/biopsychology/BiologicalPsychology.pdf'"
      ]
     },
     "execution_count": 7,
     "metadata": {},
     "output_type": "execute_result"
    }
   ],
   "source": [
    "link_list[1]\n",
    "\n"
   ]
  },
  {
   "cell_type": "code",
   "execution_count": 8,
   "id": "e1fe6582",
   "metadata": {},
   "outputs": [],
   "source": [
    "# class=\"gs_or_ggsm gs_press\""
   ]
  },
  {
   "cell_type": "code",
   "execution_count": 78,
   "id": "5eab0746",
   "metadata": {},
   "outputs": [],
   "source": [
    "import requests\n",
    "import os\n",
    "\n",
    "def is_all_digits(text):\n",
    "    return text.isdigit()\n",
    "\n",
    "def download_pdf(url):\n",
    "    # ユーザーエージェントの設定\n",
    "    headers = {\n",
    "        'User-Agent': 'Mozilla/5.0 (Windows NT 10.0; Win64; x64) AppleWebKit/537.36 (KHTML, like Gecko) Chrome/58.0.3029.110 Safari/537.3'}\n",
    "\n",
    "    file_name = url.split(\"/\")[-1]\n",
    "    if is_all_digits(file_name[:-4]):\n",
    "        # file_name = f\"paper-{file_name}\"\n",
    "        return None\n",
    "    save_dir = \"./Scraping/track_pdfs\"\n",
    "    print(file_name)\n",
    "    response = requests.get(url, headers=headers)\n",
    "\n",
    "    if response.status_code == 200:\n",
    "        with open(os.path.join(save_dir, file_name), 'wb') as f:\n",
    "            f.write(response.content)\n",
    "        print(\"ファイルが正常にダウンロードされました。\")\n",
    "        return file_name\n",
    "    else:\n",
    "        print(f\"ダウンロードに失敗しました。ステータスコード: {response.status_code}\")\n",
    "        return None\n",
    "\n"
   ]
  },
  {
   "cell_type": "code",
   "execution_count": 76,
   "id": "82926833",
   "metadata": {},
   "outputs": [
    {
     "name": "stdout",
     "output_type": "stream",
     "text": [
      "EEG-based-workers-stress-recognition-at-construction-sites.pdf\n",
      "ファイルが正常にダウンロードされました。\n",
      "BiologicalPsychology.pdf\n",
      "ファイルが正常にダウンロードされました。\n",
      "paper-09520410.pdf.pdf\n",
      "ファイルが正常にダウンロードされました。\n"
     ]
    }
   ],
   "source": [
    "file_name_list = []\n",
    "for i in range(len(link_list)):\n",
    "    # save_dir = \"./Scraping/track_pdfs\"\n",
    "    # file_name = link_list[i].split(\"/\")[-1]\n",
    "    # print(link_list[i])\n",
    "    file_name_list.append(download_pdf(link_list[i]))\n",
    "\n"
   ]
  },
  {
   "cell_type": "code",
   "execution_count": 74,
   "id": "57f6c470",
   "metadata": {},
   "outputs": [
    {
     "data": {
      "text/plain": [
       "'https://ieeexplore.ieee.org/iel7/6221039/6563131/09520410'"
      ]
     },
     "execution_count": 74,
     "metadata": {},
     "output_type": "execute_result"
    }
   ],
   "source": [
    "link_list[2][:-4]"
   ]
  },
  {
   "cell_type": "code",
   "execution_count": null,
   "id": "10f37694",
   "metadata": {},
   "outputs": [
    {
     "ename": "OpenAIError",
     "evalue": "Missing credentials. Please pass one of `api_key`, `azure_ad_token`, `azure_ad_token_provider`, or the `AZURE_OPENAI_API_KEY` or `AZURE_OPENAI_AD_TOKEN` environment variables.",
     "output_type": "error",
     "traceback": [
      "\u001b[1;31m---------------------------------------------------------------------------\u001b[0m",
      "\u001b[1;31mOpenAIError\u001b[0m                               Traceback (most recent call last)",
      "Cell \u001b[1;32mIn[10], line 4\u001b[0m\n\u001b[0;32m      1\u001b[0m \u001b[38;5;28;01mimport\u001b[39;00m \u001b[38;5;21;01mos\u001b[39;00m\n\u001b[0;32m      2\u001b[0m \u001b[38;5;28;01mfrom\u001b[39;00m \u001b[38;5;21;01mopenai\u001b[39;00m \u001b[38;5;28;01mimport\u001b[39;00m AzureOpenAI\n\u001b[1;32m----> 4\u001b[0m client \u001b[38;5;241m=\u001b[39m \u001b[43mAzureOpenAI\u001b[49m\u001b[43m(\u001b[49m\n\u001b[0;32m      5\u001b[0m \u001b[43m    \u001b[49m\u001b[43mapi_key\u001b[49m\u001b[38;5;241;43m=\u001b[39;49m\u001b[43mos\u001b[49m\u001b[38;5;241;43m.\u001b[39;49m\u001b[43mgetenv\u001b[49m\u001b[43m(\u001b[49m\u001b[38;5;124;43m\"\u001b[39;49m\u001b[38;5;124;43mAZURE_OPENAI_API_KEY\u001b[39;49m\u001b[38;5;124;43m\"\u001b[39;49m\u001b[43m)\u001b[49m\u001b[43m,\u001b[49m\u001b[43m  \u001b[49m\n\u001b[0;32m      6\u001b[0m \u001b[43m    \u001b[49m\u001b[43mapi_version\u001b[49m\u001b[38;5;241;43m=\u001b[39;49m\u001b[38;5;124;43m\"\u001b[39;49m\u001b[38;5;124;43m2023-12-01-preview\u001b[39;49m\u001b[38;5;124;43m\"\u001b[39;49m\u001b[43m,\u001b[49m\n\u001b[0;32m      7\u001b[0m \u001b[43m    \u001b[49m\u001b[43mazure_endpoint\u001b[49m\u001b[38;5;241;43m=\u001b[39;49m\u001b[43mos\u001b[49m\u001b[38;5;241;43m.\u001b[39;49m\u001b[43mgetenv\u001b[49m\u001b[43m(\u001b[49m\u001b[38;5;124;43m\"\u001b[39;49m\u001b[38;5;124;43mAZURE_OPENAI_ENDPOINT\u001b[39;49m\u001b[38;5;124;43m\"\u001b[39;49m\u001b[43m)\u001b[49m\n\u001b[0;32m      8\u001b[0m \u001b[43m)\u001b[49m\n",
      "File \u001b[1;32mc:\\anaconda\\envs\\scraping\\Lib\\site-packages\\openai\\lib\\azure.py:169\u001b[0m, in \u001b[0;36mAzureOpenAI.__init__\u001b[1;34m(self, api_version, azure_endpoint, azure_deployment, api_key, azure_ad_token, azure_ad_token_provider, organization, project, base_url, timeout, max_retries, default_headers, default_query, http_client, _strict_response_validation)\u001b[0m\n\u001b[0;32m    166\u001b[0m     azure_ad_token \u001b[38;5;241m=\u001b[39m os\u001b[38;5;241m.\u001b[39menviron\u001b[38;5;241m.\u001b[39mget(\u001b[38;5;124m\"\u001b[39m\u001b[38;5;124mAZURE_OPENAI_AD_TOKEN\u001b[39m\u001b[38;5;124m\"\u001b[39m)\n\u001b[0;32m    168\u001b[0m \u001b[38;5;28;01mif\u001b[39;00m api_key \u001b[38;5;129;01mis\u001b[39;00m \u001b[38;5;28;01mNone\u001b[39;00m \u001b[38;5;129;01mand\u001b[39;00m azure_ad_token \u001b[38;5;129;01mis\u001b[39;00m \u001b[38;5;28;01mNone\u001b[39;00m \u001b[38;5;129;01mand\u001b[39;00m azure_ad_token_provider \u001b[38;5;129;01mis\u001b[39;00m \u001b[38;5;28;01mNone\u001b[39;00m:\n\u001b[1;32m--> 169\u001b[0m     \u001b[38;5;28;01mraise\u001b[39;00m OpenAIError(\n\u001b[0;32m    170\u001b[0m         \u001b[38;5;124m\"\u001b[39m\u001b[38;5;124mMissing credentials. Please pass one of `api_key`, `azure_ad_token`, `azure_ad_token_provider`, or the `AZURE_OPENAI_API_KEY` or `AZURE_OPENAI_AD_TOKEN` environment variables.\u001b[39m\u001b[38;5;124m\"\u001b[39m\n\u001b[0;32m    171\u001b[0m     )\n\u001b[0;32m    173\u001b[0m \u001b[38;5;28;01mif\u001b[39;00m api_version \u001b[38;5;129;01mis\u001b[39;00m \u001b[38;5;28;01mNone\u001b[39;00m:\n\u001b[0;32m    174\u001b[0m     api_version \u001b[38;5;241m=\u001b[39m os\u001b[38;5;241m.\u001b[39menviron\u001b[38;5;241m.\u001b[39mget(\u001b[38;5;124m\"\u001b[39m\u001b[38;5;124mOPENAI_API_VERSION\u001b[39m\u001b[38;5;124m\"\u001b[39m)\n",
      "\u001b[1;31mOpenAIError\u001b[0m: Missing credentials. Please pass one of `api_key`, `azure_ad_token`, `azure_ad_token_provider`, or the `AZURE_OPENAI_API_KEY` or `AZURE_OPENAI_AD_TOKEN` environment variables."
     ]
    }
   ],
   "source": [
    "import os\n",
    "from openai import AzureOpenAI\n",
    "    \n",
    "client = AzureOpenAI(\n",
    "    api_key=os.getenv(\"AZURE_OPENAI_API_KEY\"),  \n",
    "    api_version=\"2023-12-01-preview\",\n",
    "    azure_endpoint=os.getenv(\"AZURE_OPENAI_ENDPOINT\")\n",
    ")"
   ]
  },
  {
   "cell_type": "code",
   "execution_count": 2,
   "id": "a74fb858",
   "metadata": {},
   "outputs": [],
   "source": [
    "import os\n",
    "from openai import AzureOpenAI\n",
    "\n",
    "os.environ[\"AZURE_OPENAI_API_KEY\"] = \"1c9f01e1a3834dc3aefe10e040322626\"\n",
    "os.environ[\"AZURE_OPENAI_ENDPOINT\"] = \"https://azure-openai-miz.openai.azure.com/\"\n",
    "\n",
    "\n",
    "client = AzureOpenAI(\n",
    "    api_key=os.getenv(\"AZURE_OPENAI_API_KEY\"),  \n",
    "    api_version=\"2023-12-01-preview\",\n",
    "    azure_endpoint=os.getenv(\"AZURE_OPENAI_ENDPOINT\")\n",
    ")"
   ]
  },
  {
   "cell_type": "code",
   "execution_count": 3,
   "id": "98d5d5d8",
   "metadata": {},
   "outputs": [
    {
     "name": "stdout",
     "output_type": "stream",
     "text": [
      "{\n",
      "  \"id\": \"chatcmpl-9JMLHbEpUFYimpnvdaJKYAAyDnzFj\",\n",
      "  \"choices\": [\n",
      "    {\n",
      "      \"finish_reason\": \"stop\",\n",
      "      \"index\": 0,\n",
      "      \"logprobs\": null,\n",
      "      \"message\": {\n",
      "        \"content\": \"The founders of Microsoft are Bill Gates and Paul Allen. They founded the company in April 1975, with Gates serving as the CEO and Allen as the executive vice president. Microsoft went on to become one of the world's largest and most influential technology companies, with products such as the Windows operating system and the Microsoft Office suite.\",\n",
      "        \"role\": \"assistant\",\n",
      "        \"function_call\": null,\n",
      "        \"tool_calls\": null\n",
      "      },\n",
      "      \"content_filter_results\": {\n",
      "        \"hate\": {\n",
      "          \"filtered\": false,\n",
      "          \"severity\": \"safe\"\n",
      "        },\n",
      "        \"self_harm\": {\n",
      "          \"filtered\": false,\n",
      "          \"severity\": \"safe\"\n",
      "        },\n",
      "        \"sexual\": {\n",
      "          \"filtered\": false,\n",
      "          \"severity\": \"safe\"\n",
      "        },\n",
      "        \"violence\": {\n",
      "          \"filtered\": false,\n",
      "          \"severity\": \"safe\"\n",
      "        }\n",
      "      }\n",
      "    }\n",
      "  ],\n",
      "  \"created\": 1714401143,\n",
      "  \"model\": \"gpt-35-turbo-16k\",\n",
      "  \"object\": \"chat.completion\",\n",
      "  \"system_fingerprint\": null,\n",
      "  \"usage\": {\n",
      "    \"completion_tokens\": 66,\n",
      "    \"prompt_tokens\": 29,\n",
      "    \"total_tokens\": 95\n",
      "  },\n",
      "  \"prompt_filter_results\": [\n",
      "    {\n",
      "      \"prompt_index\": 0,\n",
      "      \"content_filter_results\": {\n",
      "        \"hate\": {\n",
      "          \"filtered\": false,\n",
      "          \"severity\": \"safe\"\n",
      "        },\n",
      "        \"self_harm\": {\n",
      "          \"filtered\": false,\n",
      "          \"severity\": \"safe\"\n",
      "        },\n",
      "        \"sexual\": {\n",
      "          \"filtered\": false,\n",
      "          \"severity\": \"safe\"\n",
      "        },\n",
      "        \"violence\": {\n",
      "          \"filtered\": false,\n",
      "          \"severity\": \"safe\"\n",
      "        }\n",
      "      }\n",
      "    }\n",
      "  ]\n",
      "}\n",
      "The founders of Microsoft are Bill Gates and Paul Allen. They founded the company in April 1975, with Gates serving as the CEO and Allen as the executive vice president. Microsoft went on to become one of the world's largest and most influential technology companies, with products such as the Windows operating system and the Microsoft Office suite.\n"
     ]
    }
   ],
   "source": [
    "response = client.chat.completions.create(\n",
    "    model=\"gpt-35-turbo\", # model = \"deployment_name\".\n",
    "    messages=[\n",
    "        {\"role\": \"system\", \"content\": \"Assistant is a large language model trained by OpenAI.\"},\n",
    "        {\"role\": \"user\", \"content\": \"Who were the founders of Microsoft?\"}\n",
    "    ]\n",
    ")\n",
    "\n",
    "#print(response)\n",
    "print(response.model_dump_json(indent=2))\n",
    "print(response.choices[0].message.content)"
   ]
  },
  {
   "cell_type": "code",
   "execution_count": 4,
   "id": "ead77a27",
   "metadata": {},
   "outputs": [],
   "source": [
    "import os\n",
    "import platform\n",
    "\n",
    "import openai\n",
    "import chromadb\n",
    "import langchain\n",
    "\n",
    "from langchain_openai import AzureOpenAIEmbeddings\n",
    "\n",
    "from langchain.embeddings.openai import OpenAIEmbeddings\n",
    "from langchain.vectorstores import Chroma\n",
    "from langchain.text_splitter import CharacterTextSplitter\n",
    "from langchain.chat_models import ChatOpenAI\n",
    "from langchain.chains import ConversationalRetrievalChain\n",
    "from langchain.document_loaders import PyPDFLoader\n"
   ]
  },
  {
   "cell_type": "code",
   "execution_count": null,
   "id": "65dfd0de",
   "metadata": {},
   "outputs": [
    {
     "data": {
      "text/plain": [
       "['https://www.researchgate.net/profile/Houtan-Jebelli/publication/325455360_EEG-based_workers%27_stress_recognition_at_construction_sites/links/5c85b94d299bf1268d4f917c/EEG-based-workers-stress-recognition-at-construction-sites.pdf',\n",
       " 'https://www.prsinstitute.org/downloads/related/psychology/biopsychology/BiologicalPsychology.pdf',\n",
       " 'https://ieeexplore.ieee.org/iel7/6287639/6514899/09701348.pdf',\n",
       " 'https://ieeexplore.ieee.org/iel7/6287639/6514899/07968419.pdf',\n",
       " 'https://www.researchgate.net/profile/Pietro-Cipresso/publication/221853643_EEG_alpha_asymmetry_in_virtual_environments_for_the_assessment_of_stress-related_disorders/links/5be84754299bf1124fcb1731/EEG-alpha-asymmetry-in-virtual-environments-for-the-assessment-of-stress-related-disorders.pdf']"
      ]
     },
     "execution_count": 60,
     "metadata": {},
     "output_type": "execute_result"
    }
   ],
   "source": [
    "link_list"
   ]
  },
  {
   "cell_type": "code",
   "execution_count": null,
   "id": "c6d8bb63",
   "metadata": {},
   "outputs": [],
   "source": [
    "loader = PyPDFLoader(\"./Scraping/track_pdfs/EEG-alpha-asymmetry-in-virtual-environments-for-the-assessment-of-stress-related-disorders.pdf\")\n",
    "\n"
   ]
  },
  {
   "cell_type": "code",
   "execution_count": null,
   "id": "4bbb5150",
   "metadata": {},
   "outputs": [
    {
     "data": {
      "text/plain": [
       "'EEG Alpha Asymmetry in Virtual \\nEnvironments for the Assessment of Stress-\\nRelated Disorders  \\nPietro CIPRESSO a-b, Andrea GAGGIOLI a-b, Silvia SERINO a-b, Federica \\nPALLAVICINI a, Simona RASPELLI a, Alessandra GRASSI a-b, Luigi SELLITTI  c, \\nGiuseppe RIVA a-b \\na\\n Applied Technology for Neuro -Psychology Lab, Istituto Auxologico Italiano,  \\nMilan, Italy  \\nb\\n Psychology Department, Catholic University of Milan, Italy  \\nc Department of Neurosciences , Istituto Auxologico Italiano, Piancavallo -Verbania, \\nItaly \\nAbstract.  In thi s study we consider neurophysiological aspects for the assessment \\nof stress -related disorders. EEG Alpha Asymmetry could represent an effective \\nmethod to be used in the virtual environment. Nonetheless , new protocols need to \\nbe defined. In this study herein, we present two methods and a case study.  \\nKeywords.  Stress, EEG, Alpha asymmetry, Virtual Reality  \\nIntroduction  \\nThere has been growing interest in examining the roles of cognitive appraisal and \\nemotions in physiological responses to psychological str ess [1]. According to Cohen \\n[2], psychological stress occurs when an individual perceives that the environmental \\ndemands are taxing, or exceed his or her adaptive ability. This gap gives rise to label \\noneself as being stressed, and to a concomitant negativ e emotional response.  \\nIn this study herein, we consider neurophysiological aspects for the management \\nand treatment of stress -related disorders. One of the widely used instruments to analyze \\npresented aspects is the EEG. In particular, the frontal EEG act ivation asymmetry has \\nbeen generally used, giving evidence that greater left frontal activity seems to be more \\nhighly related to positive mood, whereas greater right frontal activity seems to be more \\ninvolved in negative moods, such us stress. According to  the recent literature, Alpha \\nwaves seem to be the most useful to study the frontal EEG activation asymmetry. It is \\nobserved that lower Alpha values indicate higher cortical activation.  \\n1. Standard Procedures  \\nOne of the most widely used procedure s to study EE G alpha asymmetry has been the \\nuse of a sequence of pictures. Visual stimulation has been widely demonstrated to be \\neffective in the elicitation of specific emotions. The most used and recognized pictures'"
      ]
     },
     "execution_count": 65,
     "metadata": {},
     "output_type": "execute_result"
    }
   ],
   "source": [
    "#ページを分割する\n",
    "pages = loader.load_and_split()\n",
    "\n",
    "#pdfファイルを確認する\n",
    "\n",
    "pages[1].page_content\n"
   ]
  },
  {
   "cell_type": "code",
   "execution_count": 5,
   "id": "5f01753b",
   "metadata": {},
   "outputs": [],
   "source": [
    "from langchain_openai import AzureChatOpenAI\n",
    "model = AzureChatOpenAI(\n",
    "    openai_api_version=\"2023-12-01-preview\",\n",
    "    azure_deployment=\"gpt-35-turbo\",\n",
    ")\n"
   ]
  },
  {
   "cell_type": "code",
   "execution_count": null,
   "id": "bd81334b",
   "metadata": {},
   "outputs": [
    {
     "name": "stdout",
     "output_type": "stream",
     "text": [
      "content='こんにちは！なんかお手伝いできることはありますか？' response_metadata={'token_usage': {'completion_tokens': 20, 'prompt_tokens': 8, 'total_tokens': 28}, 'model_name': 'gpt-35-turbo-16k', 'system_fingerprint': None, 'prompt_filter_results': [{'prompt_index': 0, 'content_filter_results': {'hate': {'filtered': False, 'severity': 'safe'}, 'self_harm': {'filtered': False, 'severity': 'safe'}, 'sexual': {'filtered': False, 'severity': 'safe'}, 'violence': {'filtered': False, 'severity': 'safe'}}}], 'finish_reason': 'stop', 'logprobs': None, 'content_filter_results': {'hate': {'filtered': False, 'severity': 'safe'}, 'self_harm': {'filtered': False, 'severity': 'safe'}, 'sexual': {'filtered': False, 'severity': 'safe'}, 'violence': {'filtered': False, 'severity': 'safe'}}} id='run-3ed0ae93-0d2a-4aee-b5c6-2f67d52e9ff0-0'\n"
     ]
    }
   ],
   "source": [
    "message = \"こんにちは\"\n",
    "\n",
    "res = model.invoke(message)\n",
    "\n",
    "print(res)\n"
   ]
  },
  {
   "cell_type": "code",
   "execution_count": null,
   "id": "66d0e2c0",
   "metadata": {},
   "outputs": [],
   "source": [
    "from langchain.document_loaders import PyPDFLoader\n",
    "from langchain.text_splitter import CharacterTextSplitter\n",
    "from langchain.vectorstores import FAISS\n",
    "from langchain.embeddings import OpenAIEmbeddings\n",
    "import openai\n",
    "\n",
    "embeddings = AzureOpenAIEmbeddings(\n",
    "    azure_deployment=\"text-embedding\",\n",
    "    openai_api_version=\"2023-12-01-preview\",\n",
    ")\n",
    "\n",
    "loader = PyPDFLoader(\"./Scraping/track_pdfs/EEG-alpha-asymmetry-in-virtual-environments-for-the-assessment-of-stress-related-disorders.pdf\")\n",
    "documents = loader.load()\n",
    "\n",
    "# テキストを分割\n",
    "text_splitter = CharacterTextSplitter(chunk_size=1000, chunk_overlap=0)\n",
    "split_docs = text_splitter.split_documents(documents)\n",
    "\n",
    "# FAISSベクターストアにドキュメントを保存\n",
    "db = FAISS.from_documents(split_docs, embeddings)\n",
    "\n",
    "# ベクターストアをディスクに保存\n",
    "db.save_local(\"./Scraping/save/vectorstore\")"
   ]
  },
  {
   "cell_type": "code",
   "execution_count": null,
   "id": "769225a0",
   "metadata": {},
   "outputs": [],
   "source": [
    "from langchain.chains import ConversationalRetrievalChain\n",
    "\n",
    "crc = ConversationalRetrievalChain.from_llm(llm,vectorstore.as_retriever(), return_source_documents=True)"
   ]
  },
  {
   "cell_type": "code",
   "execution_count": null,
   "id": "3d3ca275",
   "metadata": {},
   "outputs": [
    {
     "name": "stdout",
     "output_type": "stream",
     "text": [
      "この抜粋は、ストレス関連の障害の評価のための仮想環境でのEEGアルファ非対称性についての研究について述べています。著者はPietro Cipresso、Andrea Gaggioli、Silvia Serino、Federica Pallaviciniなどであり、彼らのプロフィールや研究の関連情報も提供されています。この研究は、新しいヨーロッパのプロジェクト「INTERSTRESS」の一部として行われ、仮想環境でのストレスに関する研究や心臓の反応に関する研究を参考にしています。具体的な方法として、国際的な感情画像システム（IAPS）を使用した感情と注意の実験的なテストや、仮想モニターを使用して被験者にシーケンスを観察させる方法が提案されています。この研究は、ストレス関連の障害の評価における神経生理学的な側面を考慮していますが、より生態学的な妥当性を持つ新しいプロトコルの開発が必要です。\n"
     ]
    }
   ],
   "source": [
    "from langchain.chains.summarize import load_summarize_chain\n",
    "from langchain.prompts import PromptTemplate\n",
    "from langchain.llms import OpenAI\n",
    "from langchain.vectorstores import FAISS\n",
    "\n",
    "# 保存されたベクターストアを読み込む\n",
    "\n",
    "\n",
    "embeddings = AzureOpenAIEmbeddings(\n",
    "    azure_deployment=\"text-embedding\",\n",
    "    openai_api_version=\"2023-12-01-preview\",\n",
    ")\n",
    "# 要約用のプロンプトテンプレートを定義\n",
    "prompt_template = \"\"\"\n",
    "# 命令書:\n",
    "あなたは{プロの編集者}です。\n",
    "以下の制約条件と入力文をもとに{最高の要約}を出力してください。\n",
    "# 制約条件:\n",
    "•文字数は300文字程度。\n",
    "•小学生にもわかりやすく。\n",
    "•重要なキーワードを取り残さない。\n",
    "•文章を簡潔に。\n",
    "# 入力文：\n",
    "{入力文章}\n",
    "# 出力文：\"\"\"\n",
    "\n",
    "PROMPT = PromptTemplate(template=prompt_template, input_variables=[\"text\"])\n",
    "\n",
    "# OpenAI APIを使用して要約チェーンを作成\n",
    "llm = AzureChatOpenAI(\n",
    "    openai_api_version=\"2023-12-01-preview\",\n",
    "    azure_deployment=\"gpt-35-turbo\",\n",
    ")\n",
    "chain = load_summarize_chain(llm, chain_type=\"map_reduce\", map_prompt=PROMPT, combine_prompt=PROMPT)\n",
    "\n",
    "# ベクターストアからドキュメントを取得\n",
    "docs = loaded_db.similarity_search(query=\"\", k=5)\n",
    "\n",
    "# ドキュメントの要約を生成\n",
    "summary = chain.run(docs)\n",
    "\n",
    "print(summary)"
   ]
  },
  {
   "cell_type": "code",
   "execution_count": 55,
   "id": "f8d75349",
   "metadata": {},
   "outputs": [],
   "source": [
    "from langchain.chains.summarize import load_summarize_chain\n",
    "from langchain.prompts import PromptTemplate\n",
    "from langchain.llms import OpenAI\n",
    "from langchain.vectorstores import FAISS\n",
    "from langchain_openai import AzureChatOpenAI\n",
    "from langchain.document_loaders import PyPDFLoader\n",
    "from langchain.text_splitter import CharacterTextSplitter\n",
    "from langchain.vectorstores import FAISS\n",
    "from langchain.embeddings import OpenAIEmbeddings\n",
    "\n",
    "def summarize(file_name, model=\"gpt-35-turbo\"):\n",
    "    embeddings = AzureOpenAIEmbeddings(\n",
    "        azure_deployment=\"text-embedding\",\n",
    "        openai_api_version=\"2023-12-01-preview\",\n",
    "    )\n",
    "\n",
    "    loader = PyPDFLoader(f\"./Scraping/track_pdfs/{file_name}\")\n",
    "    documents = loader.load()\n",
    "\n",
    "    # テキストを分割\n",
    "    text_splitter = CharacterTextSplitter(chunk_size=1000, chunk_overlap=0)\n",
    "    split_docs = text_splitter.split_documents(documents)\n",
    "\n",
    "    # FAISSベクターストアにドキュメントを保存\n",
    "    db = FAISS.from_documents(split_docs, embeddings)\n",
    "\n",
    "    prompt_template = \"\"\"\n",
    "    # 命令書:\n",
    "    あなたは{プロの編集者}です。\n",
    "    以下の制約条件と入力文をもとに{最高の要約}を出力してください。\n",
    "    # 制約条件:\n",
    "    •文字数は300文字程度。\n",
    "    •初めにタイトルの日本語訳を。\n",
    "    •小学生にもわかりやすく。\n",
    "    •重要なキーワードを取り残さない。\n",
    "    •文章を簡潔に。\n",
    "    # 入力文：\n",
    "    {入力文章}\n",
    "    # 出力文：\"\"\"\n",
    "\n",
    "    PROMPT = PromptTemplate(template=prompt_template, input_variables=[\"入力文章\"])\n",
    "    # OpenAI APIを使用して要約チェーンを作成\n",
    "    llm = AzureChatOpenAI(\n",
    "        openai_api_version=\"2023-12-01-preview\",\n",
    "        azure_deployment=model,\n",
    "    )\n",
    "\n",
    "    crc = ConversationalRetrievalChain.from_llm(\n",
    "        llm=llm,\n",
    "        retriever=db.as_retriever(),\n",
    "        return_source_documents=True\n",
    "    )\n",
    "\n",
    "    # query = prompt_template\n",
    "    chat_history = []\n",
    "\n",
    "    result = crc({\"question\": PROMPT, \"chat_history\": chat_history})\n",
    "\n",
    "    return result[\"answer\"]\n",
    "\n"
   ]
  },
  {
   "cell_type": "code",
   "execution_count": 81,
   "id": "4c2deac2",
   "metadata": {},
   "outputs": [
    {
     "name": "stdout",
     "output_type": "stream",
     "text": [
      "EEG-based-workers-stress-recognition-at-construction-sites.pdf\n",
      "ファイルが正常にダウンロードされました。\n",
      "BiologicalPsychology.pdf\n",
      "ファイルが正常にダウンロードされました。\n"
     ]
    },
    {
     "name": "stderr",
     "output_type": "stream",
     "text": [
      "Ignoring wrong pointing object 35 0 (offset 0)\n"
     ]
    }
   ],
   "source": [
    "query = \"EEG stress\"\n",
    "search_results = search_google_scholar(query)# loaded_db = FAISS.load_local(\"./Scraping/save/vectorstore\", embeddings, allow_dangerous_deserialization=True)\n",
    "link_list = [search_results[i][\"pdf\"] for i in range(3)]\n",
    "\n",
    "\n",
    "file_name_list = []\n",
    "summary_list = []\n",
    "for i in range(len(link_list)):\n",
    "    file_name_list.append(download_pdf(link_list[i]))\n",
    "for i in range(len(file_name_list)):\n",
    "    if file_name_list[i] is not None:\n",
    "        summary_list.append(summarize_v2(file_name_list[i]))\n"
   ]
  },
  {
   "cell_type": "code",
   "execution_count": 83,
   "id": "c8b1156a",
   "metadata": {},
   "outputs": [
    {
     "name": "stdout",
     "output_type": "stream",
     "text": [
      "タイトル: 論文の要約\n",
      "著者名: R.S. Lewis et al.\n",
      "雑誌名: Biological Psychology\n",
      "公開年月日: 2007年\n",
      "論文の主要なポイント: \n",
      "この論文では、ストレスと心理的な反応（特にコルチゾールの分泌）の関係を調査しています。人々のストレスレベルを測定し、そのストレスに対する心理的な反応を評価しました。研究結果は、ストレスがコルチゾールの分泌に影響を与え、心理的な反応にも関与していることを示しています。\n",
      "論文の重要性: \n",
      "この研究は、ストレスと心理的な反応の関係についての理解を深める上で重要です。ストレスが健康に与える影響を理解することは、ストレス管理や心理的な問題の予防に役立ちます。さらに、この研究結果は、将来のストレス研究やストレス対策の開発にも貢献することが期待されます。\n"
     ]
    }
   ],
   "source": [
    "print(summary_list[1])"
   ]
  },
  {
   "cell_type": "code",
   "execution_count": 92,
   "id": "729a4e7a",
   "metadata": {},
   "outputs": [],
   "source": [
    "def summarize_v2(url):\n",
    "    # loader = PyPDFLoader(f\"./Scraping/track_pdfs/{file_name}\")\n",
    "    loader = get_pdf(url)\n",
    "    documents = loader.load()\n",
    "    embeddings = AzureOpenAIEmbeddings(\n",
    "        azure_deployment=\"text-embedding\",\n",
    "        openai_api_version=\"2023-12-01-preview\",\n",
    "    )\n",
    "    # テキストを分割\n",
    "    text_splitter = CharacterTextSplitter(chunk_size=1000, chunk_overlap=0)\n",
    "    split_docs = text_splitter.split_documents(documents)\n",
    "    db = FAISS.from_documents(split_docs, embeddings)\n",
    "\n",
    "    prompt_template = \"\"\"\n",
    "        #お願い\n",
    "        あなたはプロの要約者です。各章を関連付けて、論文の内容を簡潔に要約してください。\n",
    "\n",
    "        #ルール\n",
    "        日本語での出力\n",
    "\n",
    "        #入力\n",
    "        {text}\n",
    "        \n",
    "        #出力\n",
    "        タイトル\n",
    "        著者名\n",
    "        雑誌名\n",
    "        公開年月日\n",
    "        論文の主要なポイント\n",
    "        論文の重要性\"\"\"\n",
    "        \n",
    "    PROMPT = PromptTemplate(template=prompt_template, input_variables=[\"text\"])\n",
    "    # OpenAI APIを使用して要約チェーンを作成\n",
    "    llm = AzureChatOpenAI(\n",
    "        openai_api_version=\"2023-12-01-preview\",\n",
    "        azure_deployment=\"gpt-35-turbo\",\n",
    "    )\n",
    "    chain = load_summarize_chain(llm, chain_type=\"map_reduce\", map_prompt=PROMPT, combine_prompt=PROMPT)\n",
    "    # ベクターストアからドキュメントを取得\n",
    "    docs = db.similarity_search(query=\"\", k=1)\n",
    "\n",
    "    # ドキュメントの要約を生成\n",
    "    summary = chain.run(docs)\n",
    "\n",
    "    return summary\n",
    "\n"
   ]
  },
  {
   "cell_type": "code",
   "execution_count": 91,
   "id": "1c60262c",
   "metadata": {},
   "outputs": [],
   "source": [
    "def get_pdf(url):\n",
    "    headers = {\n",
    "        'User-Agent': 'Mozilla/5.0 (Windows NT 10.0; Win64; x64) AppleWebKit/537.36 (KHTML, like Gecko) Chrome/93.0.4577.82 Safari/537.36'\n",
    "    }\n",
    "\n",
    "    response = requests.get(url, headers=headers)\n",
    "\n",
    "    if response.status_code == 200:\n",
    "        with open('file.pdf', 'wb') as f:\n",
    "            f.write(response.content)\n",
    "        reader = PyPDFLoader('file.pdf')\n",
    "        return reader\n",
    "        # PDFの処理を続ける\n",
    "    else:\n",
    "        print(f'Failed to download PDF. Status code: {response.status_code}')\n"
   ]
  },
  {
   "cell_type": "code",
   "execution_count": 94,
   "id": "9880413c",
   "metadata": {},
   "outputs": [
    {
     "name": "stderr",
     "output_type": "stream",
     "text": [
      "Ignoring wrong pointing object 35 0 (offset 0)\n"
     ]
    },
    {
     "name": "stdout",
     "output_type": "stream",
     "text": [
      "タイトル：ストレスと脳の非対称性の関連\n",
      "著者名：R.S. Lewis et al.\n",
      "雑誌名：Biological Psychology\n",
      "公開年月日：2007年\n",
      "論文の主要なポイント：この研究では、ストレス状態において、脳の前頭葉の非対称性が変化することが示されている。また、性別や時間帯、季節の影響を考慮して、ストレスがコルチゾールや心理的な反応に与える影響も検証されている。\n",
      "論文の重要性：この研究は、ストレスが脳の機能に及ぼす影響を明らかにし、ストレスによる身体的・心理的な変化を理解する上で重要な知見を提供している。さらに、ストレス応答の個人差や性差についても言及されており、個別のストレス管理や治療法の開発にも貢献している。\n"
     ]
    }
   ],
   "source": [
    "print(summarize_v2(link_list[1]))\n",
    "\n"
   ]
  },
  {
   "cell_type": "code",
   "execution_count": 26,
   "id": "d88e66fc",
   "metadata": {},
   "outputs": [
    {
     "data": {
      "text/plain": [
       "'EEG-based-workers-stress-recognition-at-construction-sites.pdf'"
      ]
     },
     "execution_count": 26,
     "metadata": {},
     "output_type": "execute_result"
    }
   ],
   "source": [
    "file_name_list[0]\n",
    "# summarize(file_name_list[2])\n",
    "\n"
   ]
  },
  {
   "cell_type": "code",
   "execution_count": null,
   "id": "994fd978",
   "metadata": {},
   "outputs": [
    {
     "ename": "NameError",
     "evalue": "name 'summarize' is not defined",
     "output_type": "error",
     "traceback": [
      "\u001b[1;31m---------------------------------------------------------------------------\u001b[0m",
      "\u001b[1;31mNameError\u001b[0m                                 Traceback (most recent call last)",
      "Cell \u001b[1;32mIn[1], line 1\u001b[0m\n\u001b[1;32m----> 1\u001b[0m \u001b[43msummarize\u001b[49m(file_name_list[\u001b[38;5;241m3\u001b[39m])\n",
      "\u001b[1;31mNameError\u001b[0m: name 'summarize' is not defined"
     ]
    }
   ],
   "source": [
    "summarize_v2(file_name_list[1])\n"
   ]
  },
  {
   "cell_type": "code",
   "execution_count": 53,
   "id": "91c2f187",
   "metadata": {},
   "outputs": [
    {
     "data": {
      "text/plain": [
       "'タイトル（和訳）：建設業界におけるメンタルストレスの定量化：脳波データを用いたアプローチ\\n著者名：F. Al-Shargie, T.B. Tang, M. Kiguchi\\n雑誌名：Automation in Construction\\n公開年月日：2018年\\n論文の主要なポイント：建設業界の労働者のメンタルストレスを脳波データを使用して定量化する手法を提案している。この手法は労働者の心理的な健康状態を評価し、ストレスの原因を特定するために有効であると示されている。\\n論文の重要性：建設業界では労働者のメンタルストレスが問題となっているが、客観的な評価手法が限られている。この論文で提案されている脳波データを使用した手法は、労働者の心理的な健康管理に貢献する可能性がある。\\n\\nタイトル（和訳）：建設における自動化\\n著者名：不明\\n雑誌名：Automation in Construction\\n公開年月日：93, 315-324\\n論文の主要なポイント：建設作業者のストレスレベルを測定するためにオフシェルフの装着型EEGデバイスを使用する手法が提案されている。休憩時間の不足や特定の作業条件が作業者のストレスレベルに影響を与えることが示されている。\\n論文の重要性：この手法は労働者のストレスレベルを測定するための新しい方法を提案しており、労働条件の改善や労働者の健康と安全に関する政策の策定に役立つ可能性がある。\\n\\nタイトル：建設業におけるストレス認識システムの開発と応用\\n著者名：H. Jebelli, S. Hwang, S. Lee\\n雑誌名：Automation in Construction\\n公開年月日：2017年\\n論文の主要なポイント：建設作業者のストレスレベルをモニタリングするために脳波を計測するウェアラブルデバイスを使用したシステムが開発されている。このシステムは作業者の安全性やパフォーマンスの向上に貢献する可能性がある。\\n論文の重要性：建設業界は高いストレス環境であり、作業者のストレスが作業効率や安全性に影響を与える。この研究の成果はリスク管理や作業の最適化に役立つことが期待される。\\n\\nタイトル：建設作業中の装着型EEGを用いた作業者の感情状態の測定\\n著者名：S. Hwang, H. Jebelli, B. Choi, M. Choi, S. Lee\\n雑誌名：Journal of Construction Engineering and Management\\n公開年月日：2018年\\n論文の主要なポイント：建設作業中の作業者の感情状態を装着型のEEGを使用して測定する手法が提案されている。脳波データから得られた情報を使用して作業効率や作業品質の向上に役立てることができる。\\n論文の重要性：建設作業は身体的にも精神的にも負担が大きく、作業者の感情状態が作業効率や安全性に影響を与える可能性がある。この研究により、装着型のEEGを使用して作業者の感情状態をリアルタイムで測定し、作業環境の改善や作業者のケアに役立てることができる可能性がある。\\n\\nタイトル（和訳）：建設における自動化\\n著者名：不明\\n雑誌名：Automation in Construction\\n公開年月日：不明\\n論文の主要なポイント：ストレスの認識と測定にEEG信号を使用する研究について述べられている。これまでの研究では臨床領域での研究が主であり、実際の現場での適用には課題があることが指摘されている。\\n論文の重要性：この論文は建設業界におけるストレス管理や作業効率の向上に関心を持つ研究者や実践者にとって重要な情報源となる。しかし、実際の現場での適用には課題が残っており、新たな技術や手法の開発が求められている。\\n\\nタイトル（和訳）：建設現場におけるEEGを用いた労働者のストレス認識\\n著者名：Houtan Jebelli、Sungjoo Hwang、SangHyun Lee\\n雑誌名：Automation in Construction\\n公開年月日：2018年\\n論文の主要なポイント：建設現場での労働者のストレスを早期に認識するために、EEG信号を使用した自動的な認識手法を提案している。建設現場で働く労働者のEEG信号とストレスホルモンである唾液中のコルチゾールを収集し、EEG信号から時間領域と周波数領域の特徴を抽出し、教師あり学習アルゴリズムを適用してストレスを認識する実験を行った。結果は、固定窓法とガウシアンサポートベクターマシン（SVM）を用いた場合に最も高い分類精度（80.32%）を示し、臨床でのストレス認識と同等の精度であることが示された。\\n論文の重要性：建設現場での労働者のストレス認識は、労働者の安全と健康に直結する重要な課題である。本研究では、EEG信号を用いた自動的なストレス認識手法を提案し、労働者のストレス管理に貢献することを目指している。'"
      ]
     },
     "execution_count": 53,
     "metadata": {},
     "output_type": "execute_result"
    }
   ],
   "source": [
    "summary"
   ]
  },
  {
   "cell_type": "code",
   "execution_count": null,
   "id": "19242fae",
   "metadata": {},
   "outputs": [],
   "source": []
  }
 ],
 "metadata": {
  "kernelspec": {
   "display_name": "Python 3 (ipykernel)",
   "language": "python",
   "name": "python3"
  },
  "language_info": {
   "codemirror_mode": {
    "name": "ipython",
    "version": 3
   },
   "file_extension": ".py",
   "mimetype": "text/x-python",
   "name": "python",
   "nbconvert_exporter": "python",
   "pygments_lexer": "ipython3",
   "version": "3.11.9"
  }
 },
 "nbformat": 4,
 "nbformat_minor": 5
}
